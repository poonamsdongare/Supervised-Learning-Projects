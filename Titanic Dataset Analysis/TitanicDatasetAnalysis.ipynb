{
 "cells": [
  {
   "cell_type": "markdown",
   "id": "8071077c",
   "metadata": {},
   "source": [
    "## Import of Libraries"
   ]
  },
  {
   "cell_type": "code",
   "execution_count": 2,
   "id": "9f8aef02",
   "metadata": {},
   "outputs": [],
   "source": [
    "import pandas as pd\n",
    "from sklearn.tree import DecisionTreeClassifier\n",
    "from sklearn.model_selection import cross_val_score\n",
    "from sklearn.preprocessing import LabelEncoder\n",
    "from sklearn.linear_model import LogisticRegression\n",
    "from sklearn import metrics\n",
    "from sklearn.ensemble import RandomForestClassifier"
   ]
  },
  {
   "cell_type": "markdown",
   "id": "5f8688fc",
   "metadata": {},
   "source": [
    "## Reading the Data\n",
    "\n",
    "Pandas function Usage example  \n",
    "#### df = pd.read_csv(csv_file_path, sep=';', header=0, index_col='ID', usecols=['ID', 'Name', 'Age'])  \n",
    "sep: Specifies the delimiter used in the CSV file. The default is a comma (,).  \n",
    "header: Specifies which row to use as the column names. If set to None, the default column names will be used.  \n",
    "index_col: Specifies which column to use as the row labels (index).  \n",
    "usecols: Specifies which columns to read from the file.  \n"
   ]
  },
  {
   "cell_type": "code",
   "execution_count": 3,
   "id": "c0c9b7c2",
   "metadata": {},
   "outputs": [
    {
     "name": "stdout",
     "output_type": "stream",
     "text": [
      "Data Statistics: ['Survived', 'Pclass', 'Name', 'Sex', 'Age', 'SibSp', 'Parch', 'Ticket', 'Fare', 'Cabin', 'Embarked']\n"
     ]
    }
   ],
   "source": [
    "#Reading the csv file \n",
    "data1 = pd.read_csv(\"train.csv\",index_col='PassengerId')\n",
    "print(\"Data Statistics:\",list(data1.columns.values))\n",
    "# data1.head()\n",
    "data_test = pd.read_csv(\"test.csv\",index_col='PassengerId')"
   ]
  },
  {
   "cell_type": "markdown",
   "id": "0fc6d0ae",
   "metadata": {},
   "source": [
    "## Removing the irrelevant features "
   ]
  },
  {
   "cell_type": "code",
   "execution_count": 4,
   "id": "a3c53e9b",
   "metadata": {},
   "outputs": [],
   "source": [
    "# The variable \"Name\",\"Ticket\",\"Fare\", \"Cabin\",\"Embarked\" seemed to be irrelevant\n",
    "# Hence dropping these columns\n",
    "columns_to_drop = [\"Name\",\"Ticket\",\"Fare\",\"Cabin\",\"Embarked\",\"SibSp\",\"Parch\",\"Pclass\"]\n",
    "data1 = data1.drop(columns=columns_to_drop,axis = 1)\n",
    "# data1.head()\n",
    "data_x = data1.drop([\"Survived\"],axis = 1)\n",
    "data_y = data1[\"Survived\"]\n",
    "# data_x.head()\n",
    "# data_y.head()\n",
    "\n",
    "data_test_x = data_test.drop(columns=columns_to_drop,axis = 1)\n",
    "# data1.head()\n",
    "data_test_y = pd.read_csv(\"gender_submission.csv\",index_col='PassengerId')\n"
   ]
  },
  {
   "cell_type": "markdown",
   "id": "39062026",
   "metadata": {},
   "source": [
    "## Filling the missing values\n",
    "Here we will use the mean or mode method to fill the missing values.  \n",
    "If the values are categorical then we use the mode.  \n",
    "For the numerical values we use the median.  "
   ]
  },
  {
   "cell_type": "code",
   "execution_count": 5,
   "id": "8d232c9b",
   "metadata": {},
   "outputs": [
    {
     "name": "stdout",
     "output_type": "stream",
     "text": [
      "Sex    0\n",
      "Age    0\n",
      "dtype: int64\n"
     ]
    }
   ],
   "source": [
    "# Dataframe using mean of the columns \n",
    "# Using the mode for the categorical columns\n",
    "columns_to_handle = [\"Sex\"]\n",
    "data_x[columns_to_handle] = data_x[columns_to_handle].fillna(data_x[columns_to_handle].mode())\n",
    "data_test_x[columns_to_handle] = data_test_x[columns_to_handle].fillna(data_test_x[columns_to_handle].mode())\n",
    "\n",
    "# Using mean for the numerical column\n",
    "columns_to_handle = [\"Age\"]\n",
    "data_x[columns_to_handle] = data_x[columns_to_handle].fillna(data_x[columns_to_handle].mean())\n",
    "data_test_x[columns_to_handle] = data_test_x[columns_to_handle].fillna(data_test_x[columns_to_handle].mean())\n",
    "\n",
    "# To ensure that we do not have any Nan values in a dataframe\n",
    "count = data_x.isna().sum()\n",
    "count_test = data_test_x.isna().sum()\n",
    "print(count_test)\n",
    "\n"
   ]
  },
  {
   "cell_type": "markdown",
   "id": "eefab997",
   "metadata": {},
   "source": [
    "## Problem Statement \n",
    "we need to predict the survival of the Passengers. Hence it is a classification problem.\n",
    "We will use the  Supervised learning classification methods as below:  \n",
    "1. Decision Trees\n",
    "2. Logistic Regression\n",
    "3. Random Forest"
   ]
  },
  {
   "cell_type": "markdown",
   "id": "52ddfa4b",
   "metadata": {},
   "source": [
    "### 1. Decision Trees\n",
    "for the decision trees we do not need to perfrom any scaling on the data.  \n",
    "However we will need to do the encoding for categorical variables "
   ]
  },
  {
   "cell_type": "code",
   "execution_count": 6,
   "id": "e8003558",
   "metadata": {
    "scrolled": false
   },
   "outputs": [
    {
     "name": "stdout",
     "output_type": "stream",
     "text": [
      " Accuracy score: 0.8588516746411483\n",
      "[[256  10]\n",
      " [ 49 103]]\n"
     ]
    }
   ],
   "source": [
    "label_encoder = LabelEncoder()\n",
    "data_x['Sex'] = label_encoder.fit_transform(data_x['Sex'])\n",
    "data_test_x['Sex'] = label_encoder.fit_transform(data_test_x['Sex'])\n",
    "# data_x_fill.head()\n",
    "clf = DecisionTreeClassifier(random_state=0)\n",
    "clf.fit(data_x,data_y)\n",
    "predictions = clf.predict(data_test_x)\n",
    "s = clf.score(data_test_x, data_test_y, sample_weight=None)\n",
    "print(\" Accuracy score:\",s)\n",
    "cm = metrics.confusion_matrix(data_test_y, predictions)\n",
    "print(cm)"
   ]
  },
  {
   "cell_type": "markdown",
   "id": "f6992b1f",
   "metadata": {},
   "source": [
    "### 2. Logistic Regression"
   ]
  },
  {
   "cell_type": "code",
   "execution_count": 7,
   "id": "bb927b21",
   "metadata": {},
   "outputs": [
    {
     "name": "stdout",
     "output_type": "stream",
     "text": [
      "<class 'pandas.core.frame.DataFrame'>\n",
      "     PassengerId  Survived\n",
      "0            892         0\n",
      "1            893         1\n",
      "2            894         0\n",
      "3            895         0\n",
      "4            896         1\n",
      "..           ...       ...\n",
      "413         1305         0\n",
      "414         1306         1\n",
      "415         1307         0\n",
      "416         1308         0\n",
      "417         1309         0\n",
      "\n",
      "[418 rows x 2 columns]\n",
      "1.0\n"
     ]
    }
   ],
   "source": [
    "logisticRegr = LogisticRegression()\n",
    "logisticRegr.fit(data_x,data_y)\n",
    "predictions = logisticRegr.predict(data_test_x)\n",
    "\n",
    "pred_data = pd.DataFrame({'PassengerId':  data_test_x.index, 'Survived': predictions})\n",
    "# pred_data.set_index(data_test_x.index)\n",
    "pred_data.to_csv(\"submission1.csv\",index = False)\n",
    "print(type(pred_data))\n",
    "print(pred_data)\n",
    "score = logisticRegr.score(data_test_x, data_test_y)\n",
    "print(score)"
   ]
  },
  {
   "cell_type": "code",
   "execution_count": 8,
   "id": "e77eb4af",
   "metadata": {},
   "outputs": [
    {
     "name": "stdout",
     "output_type": "stream",
     "text": [
      "[[266   0]\n",
      " [  0 152]]\n"
     ]
    }
   ],
   "source": [
    "cm = metrics.confusion_matrix(data_test_y, predictions)\n",
    "print(cm)"
   ]
  },
  {
   "cell_type": "markdown",
   "id": "1e99e7c9",
   "metadata": {},
   "source": [
    "### 3. Random Forest Classfier"
   ]
  },
  {
   "cell_type": "code",
   "execution_count": 9,
   "id": "1fcc8182",
   "metadata": {},
   "outputs": [
    {
     "name": "stdout",
     "output_type": "stream",
     "text": [
      " Accuracy score: 0.8349282296650717\n",
      "[[243  23]\n",
      " [ 46 106]]\n"
     ]
    }
   ],
   "source": [
    "rf = RandomForestClassifier()\n",
    "rf.fit(data_x,data_y)\n",
    "predictions = rf.predict(data_test_x)\n",
    "s = rf.score(data_test_x, data_test_y, sample_weight=None)\n",
    "print(\" Accuracy score:\",s)\n",
    "cm = metrics.confusion_matrix(data_test_y, predictions)\n",
    "print(cm)"
   ]
  },
  {
   "cell_type": "code",
   "execution_count": null,
   "id": "393cf5e2",
   "metadata": {},
   "outputs": [],
   "source": []
  }
 ],
 "metadata": {
  "kernelspec": {
   "display_name": "Python 3 (ipykernel)",
   "language": "python",
   "name": "python3"
  },
  "language_info": {
   "codemirror_mode": {
    "name": "ipython",
    "version": 3
   },
   "file_extension": ".py",
   "mimetype": "text/x-python",
   "name": "python",
   "nbconvert_exporter": "python",
   "pygments_lexer": "ipython3",
   "version": "3.11.5"
  }
 },
 "nbformat": 4,
 "nbformat_minor": 5
}
